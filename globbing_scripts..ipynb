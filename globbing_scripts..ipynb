{
 "cells": [
  {
   "cell_type": "code",
   "execution_count": null,
   "metadata": {},
   "outputs": [],
   "source": [
    "from glob import glob\n",
    "#import os \n",
    "#pwd = os.getcwd()\n",
    "\n",
    "def extraction(filepath):\n",
    "     query = open(filepath,\"r\").read()\n",
    "     return query\n",
    "\n",
    "sql_scripts = glob('./sql/*.sql')\n",
    "#this is the split/replace combo I need for local eo 2022\n",
    "sql_scripts = {fp.split('\\\\')[-1].replace(\".sql\", \"\"):fp.replace(\"\\\\\", \"/\") for fp in sql_scripts}\n",
    "\n",
    "test = extraction(sql_scripts[\"script_key\"])\n",
    "print(test)\n",
    "test2 = extraction(sql_scripts[\"script_key\"])\n",
    "print(test2)"
   ]
  }
 ],
 "metadata": {
  "kernelspec": {
   "display_name": "Python 3.10.2 64-bit",
   "language": "python",
   "name": "python3"
  },
  "language_info": {
   "name": "python",
   "version": "3.10.2"
  },
  "orig_nbformat": 4,
  "vscode": {
   "interpreter": {
    "hash": "5cccb019ebb59e67ca9c88b5dfb0c2becb498342a4fd0ee4f78eaf0355f7c516"
   }
  }
 },
 "nbformat": 4,
 "nbformat_minor": 2
}
